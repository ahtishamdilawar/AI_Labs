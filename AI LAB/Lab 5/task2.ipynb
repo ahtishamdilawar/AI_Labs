{
 "cells": [
  {
   "cell_type": "code",
   "execution_count": 1,
   "id": "e76d269b-e463-4ec9-b485-2c206eed05df",
   "metadata": {},
   "outputs": [],
   "source": [
    "import random\n",
    "import math"
   ]
  },
  {
   "cell_type": "code",
   "execution_count": 2,
   "id": "0691f066-a416-43b5-9b53-a1da90431ab8",
   "metadata": {},
   "outputs": [],
   "source": [
    "def calculate_total_distance(path, distance_matrix):\n",
    "    return sum(distance_matrix[path[i]][path[i+1]] for i in range(len(path) - 1)) + distance_matrix[path[-1]][path[0]]"
   ]
  },
  {
   "cell_type": "code",
   "execution_count": 3,
   "id": "3899d8b1-7ae3-4187-b107-7c6674121093",
   "metadata": {},
   "outputs": [],
   "source": [
    "def generate_neighbor(path):\n",
    "    new_path = path[:]\n",
    "    i, j = random.sample(range(len(path)), 2)\n",
    "    new_path[i], new_path[j] = new_path[j], new_path[i]\n",
    "    return new_path\n"
   ]
  },
  {
   "cell_type": "code",
   "execution_count": 4,
   "id": "d03a5543-c061-49f2-8a0e-d9c9024728d1",
   "metadata": {},
   "outputs": [],
   "source": [
    "def simulated_annealing(distance_matrix, initial_temperature, cooling_rate, max_iterations):\n",
    "    num_cities = len(distance_matrix)\n",
    "    current_path = list(range(num_cities))\n",
    "    random.shuffle(current_path)\n",
    "    current_energy = calculate_total_distance(current_path, distance_matrix)\n",
    "    best_path, best_energy = current_path[:], current_energy\n",
    "    temperature = initial_temperature\n",
    "    loop_count = 0\n",
    "    \n",
    "    for _ in range(max_iterations):\n",
    "        loop_count += 1\n",
    "        new_path = generate_neighbor(current_path)\n",
    "        new_energy = calculate_total_distance(new_path, distance_matrix)\n",
    "        delta_energy = new_energy - current_energy\n",
    "        \n",
    "        if delta_energy < 0 or random.random() < math.exp(-delta_energy / temperature):\n",
    "            current_path, current_energy = new_path, new_energy\n",
    "            if current_energy < best_energy:\n",
    "                best_path, best_energy = current_path[:], current_energy\n",
    "        \n",
    "        temperature *= cooling_rate\n",
    "        if temperature < 1e-10:\n",
    "            break\n",
    "    \n",
    "    return best_path, best_energy, loop_count, len(best_path)"
   ]
  },
  {
   "cell_type": "code",
   "execution_count": 5,
   "id": "88bd6b4d-2e5d-48d1-b8e5-c41174b3db90",
   "metadata": {},
   "outputs": [],
   "source": [
    "cities = ['A', 'B', 'C', 'D', 'E', 'F', 'G', 'H', 'I', 'J']\n",
    "distance_matrix = [\n",
    "    [0, 12, 29, 22, 13, 24, 6, 15, 18, 20],\n",
    "    [12, 0, 19, 3, 25, 17, 30, 4, 21, 23],\n",
    "    [29, 19, 0, 21, 23, 4, 9, 16, 2, 26],\n",
    "    [22, 3, 21, 0, 7, 18, 5, 11, 19, 14],\n",
    "    [13, 25, 23, 7, 0, 6, 31, 8, 27, 10],\n",
    "    [24, 17, 4, 18, 6, 0, 14, 20, 9, 5],\n",
    "    [6, 30, 9, 5, 31, 14, 0, 28, 12, 7],\n",
    "    [15, 4, 16, 11, 8, 20, 28, 0, 3, 2],\n",
    "    [18, 21, 2, 19, 27, 9, 12, 3, 0, 16],\n",
    "    [20, 23, 26, 14, 10, 5, 7, 2, 16, 0]\n",
    "]"
   ]
  },
  {
   "cell_type": "code",
   "execution_count": 6,
   "id": "aa8d58b3-d9c3-42c7-9063-43dba59a312e",
   "metadata": {},
   "outputs": [],
   "source": [
    "initial_temperature, cooling_rate, max_iterations = 1000, 0.95, 1000\n",
    "best_path_indices, best_energy, loop_count, path_length = simulated_annealing(distance_matrix, initial_temperature, cooling_rate, max_iterations)\n",
    "best_path = [cities[i] for i in best_path_indices]"
   ]
  },
  {
   "cell_type": "code",
   "execution_count": 7,
   "id": "b8248a4d-291a-4850-9f4f-bea52304ddd6",
   "metadata": {},
   "outputs": [
    {
     "name": "stdout",
     "output_type": "stream",
     "text": [
      "Best Path: I -> C -> F -> E -> D -> B -> A -> G -> J -> H -> I\n",
      "Minimum Distance: 52\n",
      "Total loops executed: 584\n",
      "Path length (extra memory): 10\n"
     ]
    }
   ],
   "source": [
    "print(\"Best Path:\", \" -> \".join(best_path) + \" -> \" + best_path[0])\n",
    "print(\"Minimum Distance:\", best_energy)\n",
    "print(\"Total loops executed:\", loop_count)\n",
    "print(\"Path length (extra memory):\", path_length)"
   ]
  }
 ],
 "metadata": {
  "kernelspec": {
   "display_name": "Python 3 (ipykernel)",
   "language": "python",
   "name": "python3"
  },
  "language_info": {
   "codemirror_mode": {
    "name": "ipython",
    "version": 3
   },
   "file_extension": ".py",
   "mimetype": "text/x-python",
   "name": "python",
   "nbconvert_exporter": "python",
   "pygments_lexer": "ipython3",
   "version": "3.12.0"
  }
 },
 "nbformat": 4,
 "nbformat_minor": 5
}
