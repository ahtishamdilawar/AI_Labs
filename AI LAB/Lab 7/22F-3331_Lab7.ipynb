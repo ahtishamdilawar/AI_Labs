{
 "cells": [
  {
   "cell_type": "markdown",
   "id": "de5d01ec-52c3-44d3-b1f1-0c1b690e2cb8",
   "metadata": {},
   "source": [
    "# TASK 1"
   ]
  },
  {
   "cell_type": "code",
   "execution_count": 1,
   "id": "4d450bc5-73c8-4f3d-a0df-36b248c6f87f",
   "metadata": {},
   "outputs": [],
   "source": [
    "import random\n",
    "from heapq import nsmallest\n",
    "\n",
    "grid = [\n",
    "    ['S', '.', '.', '.', '.'],\n",
    "    ['.', '#', '#', '.', '.'],\n",
    "    ['.', '.', '.', '.', '.'],\n",
    "    ['.', '#', '#', '.', 'T'],\n",
    "    ['.', '.', '.', '.', '.']\n",
    "]\n"
   ]
  },
  {
   "cell_type": "code",
   "execution_count": 2,
   "id": "7afa3250-d7cf-43a3-8699-cd9e39d72018",
   "metadata": {},
   "outputs": [],
   "source": [
    "start = (0, 0)\n",
    "target = (3, 4)\n",
    "k = 2  "
   ]
  },
  {
   "cell_type": "code",
   "execution_count": 3,
   "id": "00b4bf86-b89d-40fa-8697-9fc6c5045093",
   "metadata": {},
   "outputs": [],
   "source": [
    "def manhattan_distance(a, b):\n",
    "    return abs(a[0] - b[0]) + abs(a[1] - b[1])"
   ]
  },
  {
   "cell_type": "code",
   "execution_count": 4,
   "id": "77a1cdf2-f4e0-485d-82c8-5f2b13e3559d",
   "metadata": {},
   "outputs": [],
   "source": [
    "def get_neighbors(pos):\n",
    "    x, y = pos\n",
    "    moves = [(0, 1), (0, -1), (1, 0), (-1, 0)]\n",
    "    neighbors = []\n",
    "    for dx, dy in moves:\n",
    "        nx, ny = x + dx, y + dy\n",
    "        if 0 <= nx < 5 and 0 <= ny < 5 and grid[nx][ny] != '#':\n",
    "            neighbors.append((nx, ny))\n",
    "    return neighbors"
   ]
  },
  {
   "cell_type": "code",
   "execution_count": 5,
   "id": "f5357cd4-0aee-4013-9c9f-4c3867dc7e8b",
   "metadata": {},
   "outputs": [],
   "source": [
    "def local_beam_search(start, target, k):\n",
    "    current_positions = random.sample(get_neighbors(start), k)\n",
    "    path = {pos: [start, pos] for pos in current_positions}\n",
    "    nodes_expanded = 0\n",
    "    iterations = 0\n",
    "    \n",
    "    while True:\n",
    "        iterations += 1\n",
    "        all_successors = []\n",
    "        for pos in current_positions:\n",
    "            successors = get_neighbors(pos)\n",
    "            nodes_expanded += len(successors)\n",
    "            for succ in successors:\n",
    "                if succ not in path:\n",
    "                    path[succ] = path[pos] + [succ]\n",
    "                all_successors.append((succ, manhattan_distance(succ, target)))\n",
    "        \n",
    "        if not all_successors:\n",
    "            return \"Failed to reach target\", nodes_expanded, iterations\n",
    "        \n",
    "        best_k = nsmallest(k, all_successors, key=lambda x: x[1])\n",
    "        current_positions = [pos for pos, _ in best_k]\n",
    "        \n",
    "        if target in current_positions:\n",
    "            return path[target], nodes_expanded, iterations\n"
   ]
  },
  {
   "cell_type": "code",
   "execution_count": 6,
   "id": "130f81e2-b778-4c41-a2f5-1ea8e6f04066",
   "metadata": {},
   "outputs": [
    {
     "name": "stdout",
     "output_type": "stream",
     "text": [
      "Path: [(0, 0), (0, 1), (0, 2), (0, 3), (0, 4), (1, 4), (2, 4), (3, 4)]\n",
      "Nodes Expanded(Space used): 31\n",
      "Iterations(Time): 6\n"
     ]
    }
   ],
   "source": [
    "path,nodes_expanded, iterations = local_beam_search(start, target, k)\n",
    "print(\"Path:\", path)\n",
    "print(\"Nodes Expanded(Space used):\", nodes_expanded)\n",
    "print(\"Iterations(Time):\", iterations)"
   ]
  },
  {
   "cell_type": "markdown",
   "id": "dd794989-c535-4a6d-830d-842321bc372a",
   "metadata": {},
   "source": [
    "# TASK 2"
   ]
  },
  {
   "cell_type": "code",
   "execution_count": 7,
   "id": "0df365a8-d5cd-4c90-b430-7354c42c814c",
   "metadata": {},
   "outputs": [],
   "source": [
    "import time\n",
    "from collections import deque\n",
    "import copy\n",
    "\n",
    "N = 9  \n",
    "\n",
    "# 0 represents empty cells\n",
    "sudoku_grid = [\n",
    "    [0, 0, 0, 0, 0, 0, 0, 0, 0],\n",
    "    [0, 0, 0, 0, 0, 0, 0, 0, 0],\n",
    "    [0, 0, 0, 0, 0, 0, 0, 0, 0],\n",
    "    [0, 0, 0, 0, 0, 0, 0, 0, 0],\n",
    "    [0, 0, 0, 0, 0, 0, 0, 0, 0],\n",
    "    [0, 0, 0, 0, 0, 0, 0, 0, 0],\n",
    "    [0, 0, 0, 0, 0, 0, 0, 0, 0],\n",
    "    [0, 0, 0, 0, 0, 0, 0, 0, 0],\n",
    "    [0, 0, 0, 0, 0, 0, 0, 0, 0]\n",
    "]\n",
    "\n"
   ]
  },
  {
   "cell_type": "code",
   "execution_count": 8,
   "id": "8989431a-6527-4dc1-a78a-6dbc594f68e2",
   "metadata": {},
   "outputs": [],
   "source": [
    "def is_valid(grid, row, col, num):\n",
    "    for i in range(N):\n",
    "        if grid[row][i] == num or grid[i][col] == num:\n",
    "            return False\n",
    "    sub_x, sub_y = 3 * (row // 3), 3 * (col // 3)\n",
    "    for i in range(3):\n",
    "        for j in range(3):\n",
    "            if grid[sub_x + i][sub_y + j] == num:\n",
    "                return False\n",
    "    return True\n",
    "\n"
   ]
  },
  {
   "cell_type": "code",
   "execution_count": 9,
   "id": "4e7e79eb-ad60-498e-97c9-91c63b77406a",
   "metadata": {},
   "outputs": [],
   "source": [
    "def find_empty_cell(grid):\n",
    "    \n",
    "    for i in range(N):\n",
    "        for j in range(N):\n",
    "            if grid[i][j] == 0:\n",
    "                return i, j\n",
    "    return None\n",
    "\n"
   ]
  },
  {
   "cell_type": "code",
   "execution_count": 10,
   "id": "f1a9a5f8-0a06-4ef9-8a02-61fd775f760d",
   "metadata": {},
   "outputs": [],
   "source": [
    "def print_grid(grid):\n",
    "    for row in grid:\n",
    "        print(\" \".join(str(num) if num != 0 else '.' for num in row))\n",
    "    print()\n",
    "\n"
   ]
  },
  {
   "cell_type": "code",
   "execution_count": 11,
   "id": "d5c48ca6-18ea-4a4d-90ae-3f2e76d5a2fe",
   "metadata": {},
   "outputs": [],
   "source": [
    "def backtracking_solve(grid, nodes_expanded=0, iterations=0):\n",
    "    \n",
    "    start_time = time.time()\n",
    "    iterations += 1\n",
    "    empty = find_empty_cell(grid)\n",
    "    if not empty:\n",
    "        return grid, time.time() - start_time, nodes_expanded, iterations\n",
    "    row, col = empty\n",
    "    \n",
    "    for num in range(1, 10):\n",
    "        nodes_expanded += 1\n",
    "        if is_valid(grid, row, col, num):\n",
    "            grid[row][col] = num\n",
    "            result, exec_time, nodes_expanded, iterations = backtracking_solve(grid, nodes_expanded, iterations)\n",
    "            if result:\n",
    "                return result, exec_time, nodes_expanded, iterations\n",
    "            grid[row][col] = 0  \n",
    "    return None, time.time() - start_time, nodes_expanded, iterations"
   ]
  },
  {
   "cell_type": "code",
   "execution_count": 12,
   "id": "21eec14d-cea2-40e6-851e-2ccf5dcf2cd2",
   "metadata": {},
   "outputs": [],
   "source": [
    "def forward_checking_solve(grid, nodes_expanded=0, iterations=0):\n",
    "    def forward_check(grid, row, col, num):\n",
    "        return is_valid(grid, row, col, num)\n",
    "    \n",
    "    start_time = time.time()\n",
    "    iterations += 1\n",
    "    empty = find_empty_cell(grid)\n",
    "    if not empty:\n",
    "        return grid, time.time() - start_time, nodes_expanded, iterations\n",
    "    row, col = empty\n",
    "    \n",
    "    for num in range(1, 10):\n",
    "        nodes_expanded += 1\n",
    "        if forward_check(grid, row, col, num):\n",
    "            grid[row][col] = num\n",
    "            result, exec_time, nodes_expanded, iterations = forward_checking_solve(grid, nodes_expanded, iterations)\n",
    "            if result:\n",
    "                return result, exec_time, nodes_expanded, iterations\n",
    "            grid[row][col] = 0\n",
    "    return None, time.time() - start_time, nodes_expanded, iterations\n",
    "\n"
   ]
  },
  {
   "cell_type": "code",
   "execution_count": 13,
   "id": "8fc54aee-c734-42c0-bc62-e0b7d002086d",
   "metadata": {},
   "outputs": [],
   "source": [
    "def ac3(grid):\n",
    "    queue = deque()\n",
    "    domains = { (r, c): set(range(1, 10)) for r in range(N) for c in range(N) if grid[r][c] == 0 }\n",
    "    \n",
    "    for r in range(N):\n",
    "        for c in range(N):\n",
    "            if grid[r][c] == 0:\n",
    "                queue.append((r, c))\n",
    "    \n",
    "    while queue:\n",
    "        row, col = queue.popleft()\n",
    "        for num in list(domains[(row, col)]):\n",
    "            if not is_valid(grid, row, col, num):\n",
    "                domains[(row, col)].remove(num)\n",
    "            if not domains[(row, col)]:\n",
    "                return False, domains\n",
    "    return True, domains\n",
    "\n"
   ]
  },
  {
   "cell_type": "code",
   "execution_count": 14,
   "id": "9068b335-08cf-4898-aae5-7f27b23caedc",
   "metadata": {},
   "outputs": [
    {
     "name": "stdout",
     "output_type": "stream",
     "text": [
      "Backtracking Solution:\n",
      "1 2 3 4 5 6 7 8 9\n",
      "4 5 6 7 8 9 1 2 3\n",
      "7 8 9 1 2 3 4 5 6\n",
      "2 1 4 3 6 5 8 9 7\n",
      "3 6 5 8 9 7 2 1 4\n",
      "8 9 7 2 1 4 3 6 5\n",
      "5 3 1 6 4 2 9 7 8\n",
      "6 4 2 9 7 8 5 3 1\n",
      "9 7 8 5 3 1 6 4 2\n",
      "\n",
      "Nodes Expanded: 3195\n",
      "Iterations: 392\n"
     ]
    }
   ],
   "source": [
    "solution_bt, time_bt, nodes_bt, iter_bt = backtracking_solve(copy.deepcopy(sudoku_grid))\n",
    "print(\"Backtracking Solution:\")\n",
    "print_grid(solution_bt)\n",
    "print(\"Nodes Expanded:\", nodes_bt)\n",
    "print(\"Iterations:\", iter_bt)"
   ]
  },
  {
   "cell_type": "code",
   "execution_count": 15,
   "id": "7d29cd86-9077-4e91-b304-cba770191351",
   "metadata": {},
   "outputs": [
    {
     "name": "stdout",
     "output_type": "stream",
     "text": [
      "\n",
      "Forward Checking Solution:\n",
      "1 2 3 4 5 6 7 8 9\n",
      "4 5 6 7 8 9 1 2 3\n",
      "7 8 9 1 2 3 4 5 6\n",
      "2 1 4 3 6 5 8 9 7\n",
      "3 6 5 8 9 7 2 1 4\n",
      "8 9 7 2 1 4 3 6 5\n",
      "5 3 1 6 4 2 9 7 8\n",
      "6 4 2 9 7 8 5 3 1\n",
      "9 7 8 5 3 1 6 4 2\n",
      "\n",
      "Nodes Expanded: 3195\n",
      "Iterations: 392\n"
     ]
    }
   ],
   "source": [
    "solution_fc, time_fc, nodes_fc, iter_fc = forward_checking_solve(copy.deepcopy(sudoku_grid))\n",
    "print(\"\\nForward Checking Solution:\")\n",
    "print_grid(solution_fc)\n",
    "print(\"Nodes Expanded:\", nodes_fc)\n",
    "print(\"Iterations:\", iter_fc)"
   ]
  },
  {
   "cell_type": "code",
   "execution_count": 16,
   "id": "ed901950-5f3a-42dc-b644-5e97c2f4e49c",
   "metadata": {},
   "outputs": [
    {
     "name": "stdout",
     "output_type": "stream",
     "text": [
      "\n",
      "AC3 Consistency Check: Consistent\n"
     ]
    }
   ],
   "source": [
    "is_ac_consistent, domains = ac3(copy.deepcopy(sudoku_grid))\n",
    "print(\"\\nAC3 Consistency Check:\", \"Consistent\" if is_ac_consistent else \"Not Consistent\")"
   ]
  }
 ],
 "metadata": {
  "kernelspec": {
   "display_name": "Python 3 (ipykernel)",
   "language": "python",
   "name": "python3"
  },
  "language_info": {
   "codemirror_mode": {
    "name": "ipython",
    "version": 3
   },
   "file_extension": ".py",
   "mimetype": "text/x-python",
   "name": "python",
   "nbconvert_exporter": "python",
   "pygments_lexer": "ipython3",
   "version": "3.12.0"
  }
 },
 "nbformat": 4,
 "nbformat_minor": 5
}
