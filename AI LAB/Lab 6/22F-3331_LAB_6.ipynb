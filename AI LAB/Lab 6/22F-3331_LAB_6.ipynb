{
 "cells": [
  {
   "cell_type": "markdown",
   "id": "5640a7b1-0a6e-4a81-a9c4-318bba473eee",
   "metadata": {},
   "source": [
    "# Task 1"
   ]
  },
  {
   "cell_type": "code",
   "execution_count": 1,
   "id": "01c6618a-7b98-4237-8fa2-959a1933f558",
   "metadata": {},
   "outputs": [],
   "source": [
    "import math\n",
    "\n",
    "time_counter = 0\n",
    "space_counter = 0  \n",
    "\n"
   ]
  },
  {
   "cell_type": "code",
   "execution_count": 2,
   "id": "086ed7fb-4d4d-4f4e-b6cf-422f5dddc756",
   "metadata": {},
   "outputs": [],
   "source": [
    "def minimax_decision(state):\n",
    "    global time_counter, space_counter\n",
    "    best_value = -math.inf\n",
    "    best_path = []\n",
    "    for a in tree[state]:\n",
    "        value = min_value(a, [state, a], 1)\n",
    "        if value > best_value:\n",
    "            best_value = value\n",
    "            best_path = [state, a]\n",
    "    print(\"Optimal Path:\", best_path, \"with value:\", best_value)\n",
    "    print(\"Time Complexity (Function Calls):\", time_counter)\n",
    "    print(\"Space Complexity (Max Depth):\", space_counter)\n",
    "    return best_value\n",
    "\n"
   ]
  },
  {
   "cell_type": "code",
   "execution_count": 3,
   "id": "5b288481-230a-46ba-99f7-aa55b08cf750",
   "metadata": {},
   "outputs": [],
   "source": [
    "def max_value(state, path, depth):\n",
    "    global time_counter, space_counter\n",
    "    time_counter += 1\n",
    "    space_counter = max(space_counter, depth)\n",
    "    if terminal_test(state):\n",
    "        return state\n",
    "    v = -math.inf\n",
    "    for a in tree[state]:\n",
    "        v = max(v, min_value(a, path + [a], depth + 1))\n",
    "    return v\n",
    "\n",
    "def min_value(state, path, depth):\n",
    "    global time_counter, space_counter\n",
    "    time_counter += 1\n",
    "    space_counter = max(space_counter, depth)\n",
    "    if terminal_test(state):\n",
    "        return state\n",
    "    v = math.inf\n",
    "    for a in tree[state]:\n",
    "        v = min(v, max_value(a, path + [a], depth + 1))\n",
    "    return v\n",
    "\n",
    "def terminal_test(state):\n",
    "    return isinstance(state, int) \n",
    "\n",
    "\n",
    "\n",
    "\n"
   ]
  },
  {
   "cell_type": "code",
   "execution_count": 4,
   "id": "84735f3d-bc0b-4d02-8d32-006144e96be7",
   "metadata": {},
   "outputs": [
    {
     "name": "stdout",
     "output_type": "stream",
     "text": [
      "Optimal Path: ['A', 'B'] with value: 3\n",
      "Time Complexity (Function Calls): 21\n",
      "Space Complexity (Max Depth): 3\n",
      "Optimal Value: 3\n"
     ]
    }
   ],
   "source": [
    "tree = {\n",
    "    \"A\": [\"B\", \"C\", \"D\"],\n",
    "    \"B\": [\"E\", \"F\", \"G\"],\n",
    "    \"C\": [\"H\", \"I\", \"J\"],\n",
    "    \"D\": [\"K\", \"L\", \"M\"],\n",
    "    \"E\": [3], \"F\": [12], \"G\": [18],\n",
    "    \"H\": [-1], \"I\": [5], \"J\": [8],\n",
    "    \"K\": [-10], \"L\": [-5], \"M\": [-3]\n",
    "}\n",
    "\n",
    "optimal_value = minimax_decision(\"A\")\n",
    "print(\"Optimal Value:\", optimal_value)"
   ]
  },
  {
   "cell_type": "markdown",
   "id": "e7e4fe97-2579-43f8-83b3-2edb66c6033b",
   "metadata": {},
   "source": [
    "# TASK 2"
   ]
  },
  {
   "cell_type": "code",
   "execution_count": 5,
   "id": "5e01198f-d7a0-4033-b525-5851a70e8b93",
   "metadata": {},
   "outputs": [],
   "source": [
    "\n",
    "\n",
    "time_counter = 0  \n",
    "space_counter = 0 \n",
    "\n"
   ]
  },
  {
   "cell_type": "code",
   "execution_count": 6,
   "id": "2faf903d-534a-49cc-9c83-ea2f5a9a2c27",
   "metadata": {},
   "outputs": [],
   "source": [
    "def minimax_decision(state):\n",
    "    global time_counter, space_counter\n",
    "    best_value = -math.inf\n",
    "    best_path = []\n",
    "    alpha = -math.inf\n",
    "    beta = math.inf\n",
    "    for a in tree[state]:\n",
    "        value = min_value(a, [state, a], 1, alpha, beta)\n",
    "        if value > best_value:\n",
    "            best_value = value\n",
    "            best_path = [state, a]\n",
    "        alpha = max(alpha, best_value)\n",
    "    print(\"Optimal Path:\", best_path, \"with value:\", best_value)\n",
    "    print(\"Time Complexity (Function Calls):\", time_counter)\n",
    "    print(\"Space Complexity (Max Depth):\", space_counter)\n",
    "    return best_value\n",
    "\n"
   ]
  },
  {
   "cell_type": "code",
   "execution_count": 7,
   "id": "5a1ec036-50ae-4388-8cb2-e5d2587ec3f0",
   "metadata": {},
   "outputs": [],
   "source": [
    "def max_value(state, path, depth, alpha, beta):\n",
    "    \n",
    "    global time_counter, space_counter\n",
    "    time_counter += 1\n",
    "    space_counter = max(space_counter, depth)\n",
    "    if terminal_test(state):\n",
    "        return state\n",
    "    v = -math.inf\n",
    "    for a in tree[state]:\n",
    "        v = max(v, min_value(a, path + [a], depth + 1, alpha, beta))\n",
    "        if v >= beta:\n",
    "            print(f\"Pruning at MAX node {state}: {v} >= {beta}\") \n",
    "            return v  \n",
    "        alpha = max(alpha, v)\n",
    "    return v\n",
    "\n"
   ]
  },
  {
   "cell_type": "code",
   "execution_count": 8,
   "id": "de38d2cc-49f6-4ed1-871f-68a3ce36fa54",
   "metadata": {},
   "outputs": [],
   "source": [
    "def min_value(state, path, depth, alpha, beta):\n",
    "    \n",
    "    global time_counter, space_counter\n",
    "    time_counter += 1\n",
    "    space_counter = max(space_counter, depth)\n",
    "    if terminal_test(state):\n",
    "        return state\n",
    "    v = math.inf\n",
    "    for a in tree[state]:\n",
    "        v = min(v, max_value(a, path + [a], depth + 1, alpha, beta))\n",
    "        if v <= alpha:\n",
    "            print(f\"Pruning at MIN node {state}: {v} <= {alpha}\")  \n",
    "            return v \n",
    "        beta = min(beta, v)\n",
    "    return v\n",
    "\n",
    "def terminal_test(state):\n",
    "    return isinstance(state, int) \n",
    "\n"
   ]
  },
  {
   "cell_type": "code",
   "execution_count": 9,
   "id": "02785454-51a2-4b18-a6fa-5e98bf49bf78",
   "metadata": {},
   "outputs": [
    {
     "name": "stdout",
     "output_type": "stream",
     "text": [
      "Pruning at MAX node F: 12 >= 3\n",
      "Pruning at MAX node G: 18 >= 3\n",
      "Pruning at MIN node C: -1 <= 3\n",
      "Pruning at MIN node D: -10 <= 3\n",
      "Optimal Path: ['A', 'B'] with value: 3\n",
      "Time Complexity (Function Calls): 13\n",
      "Space Complexity (Max Depth): 3\n",
      "Optimal Value: 3\n"
     ]
    }
   ],
   "source": [
    "tree = {\n",
    "    \"A\": [\"B\", \"C\", \"D\"],\n",
    "    \"B\": [\"E\", \"F\", \"G\"],\n",
    "    \"C\": [\"H\", \"I\", \"J\"],\n",
    "    \"D\": [\"K\", \"L\", \"M\"],\n",
    "    \"E\": [3], \"F\": [12], \"G\": [18],\n",
    "    \"H\": [-1], \"I\": [5], \"J\": [8],\n",
    "    \"K\": [-10], \"L\": [-5], \"M\": [-3]\n",
    "}\n",
    "\n",
    "optimal_value = minimax_decision(\"A\")\n",
    "print(\"Optimal Value:\", optimal_value)\n"
   ]
  }
 ],
 "metadata": {
  "kernelspec": {
   "display_name": "Python 3 (ipykernel)",
   "language": "python",
   "name": "python3"
  },
  "language_info": {
   "codemirror_mode": {
    "name": "ipython",
    "version": 3
   },
   "file_extension": ".py",
   "mimetype": "text/x-python",
   "name": "python",
   "nbconvert_exporter": "python",
   "pygments_lexer": "ipython3",
   "version": "3.12.0"
  }
 },
 "nbformat": 4,
 "nbformat_minor": 5
}
