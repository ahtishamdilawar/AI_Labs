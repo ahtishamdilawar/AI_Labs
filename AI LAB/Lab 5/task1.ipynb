{
 "cells": [
  {
   "cell_type": "code",
   "execution_count": 1,
   "id": "ea9b6645-0ddb-41f7-aa33-d30235c58c3c",
   "metadata": {},
   "outputs": [],
   "source": [
    "import random"
   ]
  },
  {
   "cell_type": "code",
   "execution_count": 2,
   "id": "1a5c254e-0d12-41e2-aebc-3453135c309f",
   "metadata": {},
   "outputs": [],
   "source": [
    "def manhattan_distance(x1, y1, x2, y2):\n",
    "    return abs(x2 - x1) + abs(y2 - y1)"
   ]
  },
  {
   "cell_type": "code",
   "execution_count": 3,
   "id": "9cf41ea9-e2c3-4ec2-9bc0-b9e83ab3ff37",
   "metadata": {},
   "outputs": [],
   "source": [
    "def get_neighbors(x, y, grid):\n",
    "    neighbors = []\n",
    "    rows, cols = len(grid), len(grid[0])\n",
    "    directions = [(-1, 0), (1, 0), (0, -1), (0, 1)]\n",
    "    \n",
    "    for dx, dy in directions:\n",
    "        nx, ny = x + dx, y + dy\n",
    "        if 0 <= nx < rows and 0 <= ny < cols and grid[nx][ny] == 0:\n",
    "            neighbors.append((nx, ny))\n",
    "    \n",
    "    return neighbors"
   ]
  },
  {
   "cell_type": "code",
   "execution_count": 4,
   "id": "aefb1d8e-7261-40c4-a30b-d4ee04881574",
   "metadata": {},
   "outputs": [],
   "source": [
    "def basic_hill_climb(grid, start, goal):\n",
    "    x, y = start\n",
    "    path = [start]\n",
    "    loop_count = 0  \n",
    "    \n",
    "    while (x, y) != goal:\n",
    "        loop_count += 1\n",
    "        neighbors = get_neighbors(x, y, grid)\n",
    "        if not neighbors:\n",
    "            return path, False, loop_count, len(path)  \n",
    "            \n",
    "        best_neighbor = min(neighbors, key=lambda pos: manhattan_distance(pos[0], pos[1], goal[0], goal[1]))\n",
    "        \n",
    "        if manhattan_distance(best_neighbor[0], best_neighbor[1], goal[0], goal[1]) >= manhattan_distance(x, y, goal[0], goal[1]):\n",
    "            return path, False, loop_count, len(path) \n",
    "        \n",
    "        x, y = best_neighbor\n",
    "        path.append((x, y))\n",
    "    \n",
    "    return path, True, loop_count, len(path)  \n"
   ]
  },
  {
   "cell_type": "code",
   "execution_count": 5,
   "id": "95aa4779-9a38-4ee5-87a0-3da5e08105ea",
   "metadata": {},
   "outputs": [],
   "source": [
    "def random_restart_hill_climbing(grid, start, goal, max_restarts=10):\n",
    "    for _ in range(max_restarts):\n",
    "        path, success, loop_count, path_length = basic_hill_climb(grid, start, goal)\n",
    "        if success:\n",
    "            return path, True, loop_count, path_length\n",
    "        start = (random.randint(0, len(grid) - 1), random.randint(0, len(grid[0]) - 1))\n",
    "    return [], False, 0, 0"
   ]
  },
  {
   "cell_type": "code",
   "execution_count": 6,
   "id": "36ed22d3-44b6-4521-8e27-6c480f90df75",
   "metadata": {},
   "outputs": [],
   "source": [
    "def stochastic_hill_climbing(grid, start, goal):\n",
    "    x, y = start\n",
    "    path = [start]\n",
    "    loop_count = 0\n",
    "    \n",
    "    while (x, y) != goal:\n",
    "        loop_count += 1\n",
    "        neighbors = get_neighbors(x, y, grid)\n",
    "        if not neighbors:\n",
    "            return path, False, loop_count, len(path)\n",
    "        \n",
    "        distances = [manhattan_distance(nx, ny, goal[0], goal[1]) for nx, ny in neighbors]\n",
    "        total = sum(1.0 / (d + 1) for d in distances)  # Avoid division by zero\n",
    "        probabilities = [(1.0 / (d + 1)) / total for d in distances]\n",
    "        \n",
    "        best_neighbor = random.choices(neighbors, probabilities)[0]\n",
    "        x, y = best_neighbor\n",
    "        path.append((x, y))\n",
    "    \n",
    "    return path, True, loop_count, len(path)"
   ]
  },
  {
   "cell_type": "code",
   "execution_count": 7,
   "id": "ae8d5d27-8811-4e35-891d-1d040531a2a6",
   "metadata": {},
   "outputs": [],
   "source": [
    "def first_choice_hill_climbing(grid, start, goal, max_attempts=10):\n",
    "    x, y = start\n",
    "    path = [start]\n",
    "    loop_count = 0\n",
    "    \n",
    "    while (x, y) != goal:\n",
    "        loop_count += 1\n",
    "        neighbors = get_neighbors(x, y, grid)\n",
    "        if not neighbors:\n",
    "            return path, False, loop_count, len(path)\n",
    "        \n",
    "        for _ in range(max_attempts):\n",
    "            candidate = random.choice(neighbors)\n",
    "            if manhattan_distance(candidate[0], candidate[1], goal[0], goal[1]) < manhattan_distance(x, y, goal[0], goal[1]):\n",
    "                x, y = candidate\n",
    "                path.append((x, y))\n",
    "                break\n",
    "        else:\n",
    "            return path, False, loop_count, len(path)\n",
    "    \n",
    "    return path, True, loop_count, len(path)"
   ]
  },
  {
   "cell_type": "code",
   "execution_count": 8,
   "id": "ab304ec9-7e57-447b-8e0f-7d1e81f31840",
   "metadata": {},
   "outputs": [],
   "source": [
    "grid = [\n",
    "    [0, 0, 1, 0, 0],\n",
    "    [0, 1, 1, 1, 0],\n",
    "    [0, 0, 0, 1, 0],\n",
    "    [1, 1, 0, 0, 0],\n",
    "    [0, 0, 0, 1, 0]\n",
    "]"
   ]
  },
  {
   "cell_type": "code",
   "execution_count": 9,
   "id": "e247cb26-12c5-402e-91c9-9eecfdb65e35",
   "metadata": {},
   "outputs": [],
   "source": [
    "start = (0, 0)\n",
    "goal = (4, 4)"
   ]
  },
  {
   "cell_type": "code",
   "execution_count": 10,
   "id": "39466d4f-58ed-49a1-a89a-074f6fc0418e",
   "metadata": {},
   "outputs": [],
   "source": [
    "path, success, loop_count, path_length = basic_hill_climb(grid, start, goal)"
   ]
  },
  {
   "cell_type": "code",
   "execution_count": 11,
   "id": "6ee90aac-6ae9-4f82-8fe4-6f61c337e53c",
   "metadata": {},
   "outputs": [
    {
     "name": "stdout",
     "output_type": "stream",
     "text": [
      "Failure: Local maximum reached!\n",
      "Path: [(0, 0), (1, 0), (2, 0), (2, 1), (2, 2), (3, 2), (4, 2)]\n"
     ]
    }
   ],
   "source": [
    "if success:\n",
    "    print(\"Success: Path found!\")\n",
    "    print(\"Path:\", path)\n",
    "else:\n",
    "    print(\"Failure: Local maximum reached!\")\n",
    "    print(\"Path:\", path)"
   ]
  },
  {
   "cell_type": "code",
   "execution_count": 12,
   "id": "d8e5c25c-ac83-4a87-81fe-77cd9c8e04e4",
   "metadata": {},
   "outputs": [
    {
     "name": "stdout",
     "output_type": "stream",
     "text": [
      "Total loops executed: 7\n"
     ]
    }
   ],
   "source": [
    "print(\"Total loops executed:\", loop_count)"
   ]
  },
  {
   "cell_type": "code",
   "execution_count": 13,
   "id": "cbed4e0b-d478-4036-978b-54c1092500b7",
   "metadata": {},
   "outputs": [
    {
     "name": "stdout",
     "output_type": "stream",
     "text": [
      "Path length (number of elements used): 7\n"
     ]
    }
   ],
   "source": [
    "print(\"Path length (number of elements used):\", path_length)"
   ]
  },
  {
   "cell_type": "code",
   "execution_count": 14,
   "id": "f779e12a-9bb2-4397-8e28-2f8c0955fa7e",
   "metadata": {},
   "outputs": [
    {
     "name": "stdout",
     "output_type": "stream",
     "text": [
      "Random Restart Hill Climbing: ([(4, 3), (4, 4)], True, 1, 2)\n",
      "Stochastic Hill Climbing: ([(0, 0), (1, 0), (2, 0), (1, 0), (2, 0), (2, 1), (2, 2), (2, 1), (2, 2), (2, 1), (2, 2), (2, 1), (2, 0), (2, 1), (2, 0), (2, 1), (2, 0), (1, 0), (0, 0), (0, 1), (0, 0), (1, 0), (2, 0), (2, 1), (2, 2), (2, 1), (2, 0), (2, 1), (2, 2), (2, 1), (2, 0), (2, 1), (2, 0), (1, 0), (0, 0), (1, 0), (2, 0), (1, 0), (2, 0), (1, 0), (2, 0), (1, 0), (0, 0), (0, 1), (0, 0), (1, 0), (2, 0), (1, 0), (0, 0), (0, 1), (0, 0), (0, 1), (0, 0), (0, 1), (0, 0), (0, 1), (0, 0), (1, 0), (2, 0), (1, 0), (0, 0), (0, 1), (0, 0), (0, 1), (0, 0), (0, 1), (0, 0), (0, 1), (0, 0), (1, 0), (0, 0), (1, 0), (0, 0), (0, 1), (0, 0), (0, 1), (0, 0), (0, 1), (0, 0), (0, 1), (0, 0), (1, 0), (0, 0), (1, 0), (0, 0), (0, 1), (0, 0), (0, 1), (0, 0), (0, 1), (0, 0), (1, 0), (0, 0), (0, 1), (0, 0), (0, 1), (0, 0), (0, 1), (0, 0), (0, 1), (0, 0), (0, 1), (0, 0), (1, 0), (2, 0), (2, 1), (2, 2), (3, 2), (3, 3), (3, 4), (3, 3), (3, 4), (4, 4)], True, 112, 113)\n",
      "First-Choice Hill Climbing: ([(0, 0), (1, 0), (2, 0), (2, 1), (2, 2), (3, 2), (3, 3), (3, 4), (4, 4)], True, 8, 9)\n"
     ]
    }
   ],
   "source": [
    "print(\"Random Restart Hill Climbing:\", random_restart_hill_climbing(grid, start, goal))\n",
    "print(\"Stochastic Hill Climbing:\", stochastic_hill_climbing(grid, start, goal))\n",
    "print(\"First-Choice Hill Climbing:\", first_choice_hill_climbing(grid, start, goal))"
   ]
  },
  {
   "cell_type": "code",
   "execution_count": null,
   "id": "c8fefdd8-3e79-4c7f-9c9a-a60d9f2e72ba",
   "metadata": {},
   "outputs": [],
   "source": []
  }
 ],
 "metadata": {
  "kernelspec": {
   "display_name": "Python 3 (ipykernel)",
   "language": "python",
   "name": "python3"
  },
  "language_info": {
   "codemirror_mode": {
    "name": "ipython",
    "version": 3
   },
   "file_extension": ".py",
   "mimetype": "text/x-python",
   "name": "python",
   "nbconvert_exporter": "python",
   "pygments_lexer": "ipython3",
   "version": "3.12.0"
  }
 },
 "nbformat": 4,
 "nbformat_minor": 5
}
