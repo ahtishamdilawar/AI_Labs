{
 "cells": [
  {
   "cell_type": "code",
   "execution_count": 1,
   "id": "76e72cee-6d63-4f53-92b4-60cbb8182dc7",
   "metadata": {},
   "outputs": [],
   "source": [
    "def get_valid_neighbors(x, y, grid, obstacles):\n",
    "    neighbors = []\n",
    "    rows, cols = len(grid), len(grid[0])\n",
    "    directions = [(0, 1), (0, -1), (1, 0), (-1, 0)]  # Up, Down, Right, Left\n",
    "    \n",
    "    for dx, dy in directions:\n",
    "        nx, ny = x + dx, y + dy\n",
    "        if 0 <= nx < rows and 0 <= ny < cols and (nx, ny) not in obstacles:\n",
    "            neighbors.append((nx, ny))\n",
    "    \n",
    "    return neighbors\n"
   ]
  },
  {
   "cell_type": "code",
   "execution_count": 2,
   "id": "5eab27e6-1f2c-4c37-8080-976b3703a52e",
   "metadata": {},
   "outputs": [],
   "source": [
    "def hill_climb(grid, start, obstacles):\n",
    "    x, y = start\n",
    "    path = [(x, y)]\n",
    "    current_elevation = grid[x][y]\n",
    "    steps = 0\n",
    "    \n",
    "    while True:\n",
    "        neighbors = get_valid_neighbors(x, y, grid, obstacles)\n",
    "        if not neighbors:\n",
    "            break\n",
    "        \n",
    "        best_neighbor = max(neighbors, key=lambda pos: grid[pos[0]][pos[1]], default=None)\n",
    "        if best_neighbor and grid[best_neighbor[0]][best_neighbor[1]] > current_elevation:\n",
    "            x, y = best_neighbor\n",
    "            current_elevation = grid[x][y]\n",
    "            path.append((x, y))\n",
    "            steps += 1\n",
    "        else:\n",
    "            break\n",
    "    \n",
    "    return path, current_elevation, steps"
   ]
  },
  {
   "cell_type": "code",
   "execution_count": 3,
   "id": "af3c5e1a-b5c0-442e-9511-9f3fbd0f7f83",
   "metadata": {},
   "outputs": [],
   "source": [
    "grid = [\n",
    "    [1, 2, 3, 4, 5],\n",
    "    [2, 3, 4, 8, 7],\n",
    "    [3, 6, 5, 9, 10],\n",
    "    [4, 7, 8, 12, 11],\n",
    "    [5, 9, 10, 13, 14]\n",
    "]\n"
   ]
  },
  {
   "cell_type": "code",
   "execution_count": 4,
   "id": "018916ac-2f38-4c17-9e95-b447022364cd",
   "metadata": {},
   "outputs": [],
   "source": [
    "obstacles = {(2, 3), (3, 1)}  \n",
    "start = (0, 0)"
   ]
  },
  {
   "cell_type": "code",
   "execution_count": 5,
   "id": "ba85046d-e394-414a-b1fe-484c158858f2",
   "metadata": {},
   "outputs": [],
   "source": [
    "path, peak_elevation, steps = hill_climb(grid, start, obstacles)"
   ]
  },
  {
   "cell_type": "code",
   "execution_count": 6,
   "id": "43a55520-bfaa-4cea-bb31-b6c6afbb4d91",
   "metadata": {},
   "outputs": [
    {
     "name": "stdout",
     "output_type": "stream",
     "text": [
      "Path Taken: [(0, 0), (0, 1), (0, 2), (0, 3), (1, 3)]\n",
      "Peak Elevation:TIME 8\n",
      "Steps Taken:SPACE 4\n"
     ]
    }
   ],
   "source": [
    "print(\"Path Taken:\", path)\n",
    "print(\"Peak Elevation:TIME\", peak_elevation)\n",
    "print(\"Steps Taken:SPACE\", steps)"
   ]
  }
 ],
 "metadata": {
  "kernelspec": {
   "display_name": "Python 3 (ipykernel)",
   "language": "python",
   "name": "python3"
  },
  "language_info": {
   "codemirror_mode": {
    "name": "ipython",
    "version": 3
   },
   "file_extension": ".py",
   "mimetype": "text/x-python",
   "name": "python",
   "nbconvert_exporter": "python",
   "pygments_lexer": "ipython3",
   "version": "3.12.0"
  }
 },
 "nbformat": 4,
 "nbformat_minor": 5
}
